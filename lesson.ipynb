{
 "cells": [
  {
   "cell_type": "markdown",
   "metadata": {},
   "source": [
    "# Objectives\n",
    "YWBAT\n",
    "* compare and contrast a pmf vs a pdf\n",
    "* compare and contrast a cdf vs a pdf"
   ]
  },
  {
   "cell_type": "markdown",
   "metadata": {},
   "source": [
    "# Outline\n",
    "* Generate discrete data\n",
    "* Plot the data with a bar chart\n",
    "* Calculate some probabilities\n",
    "* Generate some continuous data \n",
    "* Plot the data with a histogram\n",
    "* calculate some probabilities of our data"
   ]
  },
  {
   "cell_type": "markdown",
   "metadata": {},
   "source": [
    "# PMF vs PDF\n",
    "**PMF**\n",
    "* data must be discrete and indepedent\n",
    "* example\n",
    "    * dice \n",
    "    * coin flip\n",
    "    * yelp reviews \n",
    "    * netflix reviews\n",
    "    * youtube likes vs dislikes\n",
    "        * commentors to viewers\n",
    "    * instagram likes vs impressions\n",
    "    * age -> after a transformation \n",
    "    \n",
    "**PDF**\n",
    "* data is continuous and independent\n",
    "* example\n",
    "    * temperature\n",
    "    * weight, height\n",
    "    * age\n",
    "    * speed of a car\n",
    "    * time\n",
    "    * data usage on a phone (bits)"
   ]
  },
  {
   "cell_type": "code",
   "execution_count": 51,
   "metadata": {},
   "outputs": [],
   "source": [
    "import numpy as np\n",
    "import pandas as pd\n",
    "import scipy.stats as scs\n",
    "\n",
    "import matplotlib.pyplot as plt\n",
    "import seaborn as sns"
   ]
  },
  {
   "cell_type": "code",
   "execution_count": 5,
   "metadata": {},
   "outputs": [],
   "source": [
    "# Let's make a list of data using numbers 1 - 5\n",
    "# List of 5000 Yelp Reviews \n",
    "\n",
    "# in numpy size = (n, m) -> matrix of dimension nxm\n",
    "# in numpy size = (n, ) -> vector of dimension nx1"
   ]
  },
  {
   "cell_type": "code",
   "execution_count": 12,
   "metadata": {},
   "outputs": [
    {
     "data": {
      "text/plain": [
       "array([3, 4, 4, ..., 3, 2, 4])"
      ]
     },
     "execution_count": 12,
     "metadata": {},
     "output_type": "execute_result"
    }
   ],
   "source": [
    "yelp_reviews = np.random.randint(1, 6, size=5000)\n",
    "yelp_reviews"
   ]
  },
  {
   "cell_type": "code",
   "execution_count": 14,
   "metadata": {},
   "outputs": [
    {
     "data": {
      "text/plain": [
       "5"
      ]
     },
     "execution_count": 14,
     "metadata": {},
     "output_type": "execute_result"
    }
   ],
   "source": [
    "yelp_reviews.max()"
   ]
  },
  {
   "cell_type": "markdown",
   "metadata": {},
   "source": [
    "# So how do I make the PMF?"
   ]
  },
  {
   "cell_type": "code",
   "execution_count": 15,
   "metadata": {},
   "outputs": [
    {
     "data": {
      "text/plain": [
       "{3: 1014, 4: 976, 2: 996, 1: 980, 5: 1034}"
      ]
     },
     "execution_count": 15,
     "metadata": {},
     "output_type": "execute_result"
    }
   ],
   "source": [
    "# so we need to count frequencies of each  value in the array\n",
    "review_counts = {}\n",
    "for review in yelp_reviews:\n",
    "    if review in review_counts.keys():\n",
    "        review_counts[review] += 1 \n",
    "    else:\n",
    "        review_counts[review] = 1\n",
    "review_counts"
   ]
  },
  {
   "cell_type": "code",
   "execution_count": 16,
   "metadata": {},
   "outputs": [
    {
     "data": {
      "text/plain": [
       "{3: 1014, 4: 976, 2: 996, 1: 980, 5: 1034}"
      ]
     },
     "execution_count": 16,
     "metadata": {},
     "output_type": "execute_result"
    }
   ],
   "source": [
    "review_counts = {}\n",
    "for review in yelp_reviews:\n",
    "    review_counts[review] = review_counts.get(review, 0) + 1\n",
    "review_counts"
   ]
  },
  {
   "cell_type": "code",
   "execution_count": 24,
   "metadata": {},
   "outputs": [],
   "source": [
    "# we need to find the probability of each one of these occurring\n",
    "review_counts_percents = {}\n",
    "total_reviews = sum(review_counts.values())\n",
    "for review in review_counts.keys():\n",
    "    percentage = review_counts[review]/total_reviews\n",
    "    review_counts_percents[review] = percentage"
   ]
  },
  {
   "cell_type": "code",
   "execution_count": 25,
   "metadata": {},
   "outputs": [
    {
     "data": {
      "text/plain": [
       "{3: 0.2028, 4: 0.1952, 2: 0.1992, 1: 0.196, 5: 0.2068}"
      ]
     },
     "execution_count": 25,
     "metadata": {},
     "output_type": "execute_result"
    }
   ],
   "source": [
    "review_counts_percents"
   ]
  },
  {
   "cell_type": "code",
   "execution_count": 39,
   "metadata": {},
   "outputs": [
    {
     "data": {
      "image/png": "[encoded data removed]",
      "text/plain": [
       "<Figure size 576x360 with 1 Axes>"
      ]
     },
     "metadata": {
      "needs_background": "light"
     },
     "output_type": "display_data"
    }
   ],
   "source": [
    "# How do I plot this?\n",
    "# PMF -> a barchart of all the probabilities of an event occurring\n",
    "\n",
    "events = review_counts_percents.keys()\n",
    "percentages = review_counts_percents.values()\n",
    "\n",
    "plt.figure(figsize=(8, 5))\n",
    "plt.grid(zorder=0)\n",
    "plt.bar(events, percentages, color='#f545da', linewidth=1, \n",
    "        edgecolor='k', zorder=2)\n",
    "plt.title(\"PMF of Yelp Reviews\")\n",
    "plt.show()"
   ]
  },
  {
   "cell_type": "markdown",
   "metadata": {},
   "source": [
    "# let's generate some continous data"
   ]
  },
  {
   "cell_type": "code",
   "execution_count": 67,
   "metadata": {},
   "outputs": [],
   "source": [
    "temperatures = np.random.normal(loc=80, scale=5, size=365)"
   ]
  },
  {
   "cell_type": "code",
   "execution_count": 68,
   "metadata": {},
   "outputs": [
    {
     "data": {
      "image/png": "[encoded data removed]",
      "text/plain": [
       "<Figure size 432x288 with 1 Axes>"
      ]
     },
     "metadata": {
      "needs_background": "light"
     },
     "output_type": "display_data"
    }
   ],
   "source": [
    "# How do I calculate a probability now?\n",
    "\n",
    "plt.hist(temperatures)\n",
    "plt.xlabel(\"Temperature\")\n",
    "plt.ylabel(\"Frequencies\")\n",
    "plt.show()\n",
    "\n",
    "# what does one do to calculate the probability\n",
    "# that the temperature = 80\n",
    "\n",
    "# take the area under 80 which equals 0"
   ]
  },
  {
   "cell_type": "code",
   "execution_count": 69,
   "metadata": {},
   "outputs": [],
   "source": [
    "# P(temperature = 80) = 0"
   ]
  },
  {
   "cell_type": "code",
   "execution_count": 50,
   "metadata": {},
   "outputs": [
    {
     "data": {
      "image/png": "[encoded data removed]",
      "text/plain": [
       "<Figure size 432x288 with 1 Axes>"
      ]
     },
     "metadata": {
      "needs_background": "light"
     },
     "output_type": "display_data"
    }
   ],
   "source": [
    "sns.distplot(temperatures)\n",
    "plt.show()"
   ]
  },
  {
   "cell_type": "code",
   "execution_count": 88,
   "metadata": {},
   "outputs": [
    {
     "data": {
      "text/plain": [
       "0.15851941887820603"
      ]
     },
     "execution_count": 88,
     "metadata": {},
     "output_type": "execute_result"
    }
   ],
   "source": [
    "# PDF probabilities are ranges\n",
    "# What's the probability of getting temperatures \n",
    "# between 79 and 81 [79, 81]\n",
    "\n",
    "# so calculate the cdf of 81\n",
    "# subtract the cdf of 79\n",
    "\n",
    "# this is how you can calculate the area between 79 and 81\n",
    "scs.norm(80, 5).cdf(81) - scs.norm(80, 5).cdf(79)"
   ]
  },
  {
   "cell_type": "code",
   "execution_count": 89,
   "metadata": {},
   "outputs": [],
   "source": [
    "def get_temp_probability_band(low, high):\n",
    "    return scs.norm(80, 5).cdf(high) - scs.norm(80, 5).cdf(low)"
   ]
  },
  {
   "cell_type": "code",
   "execution_count": 90,
   "metadata": {},
   "outputs": [
    {
     "data": {
      "text/plain": [
       "9.865870229416372e-10"
      ]
     },
     "execution_count": 90,
     "metadata": {},
     "output_type": "execute_result"
    }
   ],
   "source": [
    "get_temp_probability_band(40, 50)"
   ]
  },
  {
   "cell_type": "markdown",
   "metadata": {},
   "source": [
    "# What we learned? \n",
    "* learned how to make a dictionary without using Counter \n",
    "* definition of a discrete number \n",
    "* why exactly we have to take the area under the curve when calculating probabilities (cdf)\n",
    "* generate random normal data\n",
    "* scipy.stats.norm is there for a reason\n",
    "* np.where"
   ]
  },
  {
   "cell_type": "code",
   "execution_count": 93,
   "metadata": {},
   "outputs": [
    {
     "data": {
      "text/plain": [
       "array([98.00705302, 93.08467829, 92.3053383 , 93.51413627, 90.02111289,\n",
       "       92.37430181, 91.93421936, 90.48443923])"
      ]
     },
     "execution_count": 93,
     "metadata": {},
     "output_type": "execute_result"
    }
   ],
   "source": [
    "temperatures[np.where(temperatures>90)]"
   ]
  },
  {
   "cell_type": "code",
   "execution_count": null,
   "metadata": {},
   "outputs": [],
   "source": []
  }
 ],
 "metadata": {
  "kernelspec": {
   "display_name": "Python [conda env:flatiron-env] *",
   "language": "python",
   "name": "conda-env-flatiron-env-py"
  },
  "language_info": {
   "codemirror_mode": {
    "name": "ipython",
    "version": 3
   },
   "file_extension": ".py",
   "mimetype": "text/x-python",
   "name": "python",
   "nbconvert_exporter": "python",
   "pygments_lexer": "ipython3",
   "version": "3.6.0"
  }
 },
 "nbformat": 4,
 "nbformat_minor": 2
}
